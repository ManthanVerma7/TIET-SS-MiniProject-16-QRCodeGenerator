{
  "nbformat": 4,
  "nbformat_minor": 0,
  "metadata": {
    "colab": {
      "provenance": [],
      "authorship_tag": "ABX9TyMXoJv70Ra125ol149sOvVR",
      "include_colab_link": true
    },
    "kernelspec": {
      "name": "python3",
      "display_name": "Python 3"
    },
    "language_info": {
      "name": "python"
    }
  },
  "cells": [
    {
      "cell_type": "markdown",
      "metadata": {
        "id": "view-in-github",
        "colab_type": "text"
      },
      "source": [
        "<a href=\"https://colab.research.google.com/github/ManthanVerma7/TIET-SS-MiniProject-16-QRCodeGenerator/blob/main/QRCodeGenerator.ipynb\" target=\"_parent\"><img src=\"https://colab.research.google.com/assets/colab-badge.svg\" alt=\"Open In Colab\"/></a>"
      ]
    },
    {
      "cell_type": "code",
      "execution_count": null,
      "metadata": {
        "id": "R5gGKxic_01q"
      },
      "outputs": [],
      "source": [
        "import qrcode as qr\n",
        "\n",
        "image = qr.make(\"https://www.youtube.com\")  # Added \"https://\" for proper URL\n",
        "image.save(\"YouTube.png\")  # Added file extension\n"
      ]
    }
  ]
}